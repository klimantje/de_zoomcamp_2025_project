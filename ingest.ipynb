{
 "cells": [
  {
   "cell_type": "code",
   "execution_count": null,
   "metadata": {},
   "outputs": [],
   "source": [
    "import duckdb\n",
    "import boto3\n",
    "import pandas as pd\n",
    "import datetime\n",
    "import re\n",
    "\n",
    "s3 = boto3.client('s3', aws_access_key_id='', aws_secret_access_key='')\n",
    "s3._request_signer.sign = (lambda *args, **kwargs: None)\n",
    "\n",
    "\n",
    "response = s3.list_objects_v2(\n",
    "    Bucket='cycling.data.tfl.gov.uk',\n",
    "    Prefix='usage-stats',\n",
    "\n",
    ")\n"
   ]
  },
  {
   "cell_type": "code",
   "execution_count": null,
   "metadata": {},
   "outputs": [],
   "source": [
    "df = pd.DataFrame(response[\"Contents\"])"
   ]
  },
  {
   "cell_type": "code",
   "execution_count": null,
   "metadata": {},
   "outputs": [],
   "source": [
    "files_dict = response[\"Contents\"]\n",
    "files=[]\n",
    "pattern= re.compile(r'usage-stats/.*Journey.*Data.*.csv')\n",
    "for file in files_dict:\n",
    "    if pattern.match(file[\"Key\"]) and file[\"LastModified\"].year>2020:\n",
    "        file_key = file[\"Key\"]\n",
    "        files.append(f\"s3://cycling.data.tfl.gov.uk/{file_key}\")"
   ]
  },
  {
   "cell_type": "code",
   "execution_count": null,
   "metadata": {},
   "outputs": [],
   "source": [
    "files"
   ]
  },
  {
   "cell_type": "code",
   "execution_count": null,
   "metadata": {},
   "outputs": [],
   "source": [
    "conn = duckdb.connect(\"data/journeys.duckdb\")\n",
    "conn.execute(\"SET memory_limit = '3GB';\")"
   ]
  },
  {
   "cell_type": "code",
   "execution_count": null,
   "metadata": {},
   "outputs": [],
   "source": [
    "columns=set()\n",
    "for file in files:\n",
    "    columns |= set(conn.read_csv(file, normalize_names=True).columns)\n"
   ]
  },
  {
   "cell_type": "code",
   "execution_count": null,
   "metadata": {},
   "outputs": [],
   "source": [
    "df = duckdb.sql(f\"select * RENAME (bike_id as bike_number, endstation_id as end_station_id, endstation_name as end_station, startstation_id as start_station_id, startstation_name as start_station, duration as total_duration_ms)  from read_csv('s3://cycling.data.tfl.gov.uk/usage-stats/246JourneyDataExtract23Dec2020-29Dec2020.csv', normalize_names=True)\")\n",
    "to_map = {x:y for x,y in columns_mapping.items() if x in df.columns}\n",
    "df_cleaned = duckdb.sql(f\"select * REPLACE( total_duration_ms*1000 as total_duration_ms) from df\")\n"
   ]
  },
  {
   "cell_type": "code",
   "execution_count": null,
   "metadata": {},
   "outputs": [],
   "source": [
    "df_cleaned"
   ]
  },
  {
   "cell_type": "code",
   "execution_count": null,
   "metadata": {},
   "outputs": [],
   "source": [
    "columns_mapping={\n",
    " \"bike_number\": \"bike_id\",\n",
    " 'duration': \"total_duration_ms\",\n",
    " 'end_station_number': \"end_station_id\",\n",
    " 'endstation_id': \"end_station_id\",\n",
    " 'endstation_name': \"end_station\",\n",
    " 'number': \"rental_id\",\n",
    " 'start_station_number': \"start_station_id\",\n",
    " 'startstation_id': \"start_station_id\",\n",
    " 'startstation_name': \"start_station\"\n",
    "\n",
    "}\n",
    "final_cols = [\"rental_id\", \"bike_id\", \"bike_model\", \"start_station_id\", \"start_station\", \"end_station_id\", \"end_station\", \"start_date\", \"end_date\", \"total_duration_ms\"]"
   ]
  },
  {
   "cell_type": "code",
   "execution_count": null,
   "metadata": {},
   "outputs": [],
   "source": [
    "import logging\n",
    "\n",
    "logger = logging.Logger(\"ingestion\", level=\"INFO\")\n",
    "def clean_file(file_path:str, parquet_path:str):\n",
    "    logger.info(f\"ingesting {file_path}\")\n",
    "    raw_df = duckdb.read_csv(file_path, normalize_names=True)\n",
    "    if 'duration' in raw_df.columns:\n",
    "        raw_df = duckdb.sql(\"select * REPLACE duration*1000 as duration from raw_df\")\n",
    "    to_map = {x:y for x,y in columns_mapping.items() if x in raw_df.columns}\n",
    "    to_map_str = ', '.join([f\"{x} as {y}\" for x,y in to_map.items()])\n",
    "    df_cleaned = duckdb.sql(f\"select * RENAME ({to_map_str}) from raw_df\")\n",
    "    logger.info(f\"writing {parquet_path}\")\n",
    "    cols_to_select = [col for col in final_cols if col in df_cleaned.columns]\n",
    "    df_cleaned.select(\",\".join(cols_to_select)).write_parquet(parquet_path, overwrite=True)\n",
    "    "
   ]
  },
  {
   "cell_type": "code",
   "execution_count": null,
   "metadata": {},
   "outputs": [],
   "source": [
    "def clean_and_write_files():\n",
    "    pattern= re.compile(r'usage-stats/.*Journey.*Data.*.csv')\n",
    "    for file in files_dict:\n",
    "        logger.info(file)\n",
    "        if pattern.match(file[\"Key\"]) and file[\"LastModified\"].year>2020:\n",
    "            file_key = file[\"Key\"]\n",
    "            csv_path = f\"s3://cycling.data.tfl.gov.uk/{file_key}\"\n",
    "            parquet_path = f\"./data/{file_key}\".replace(\".csv\", \".parquet\")\n",
    "            clean_file(csv_path, parquet_path)\n",
    "    "
   ]
  },
  {
   "cell_type": "code",
   "execution_count": null,
   "metadata": {},
   "outputs": [],
   "source": [
    "clean_and_write_files()"
   ]
  },
  {
   "cell_type": "code",
   "execution_count": null,
   "metadata": {},
   "outputs": [],
   "source": [
    "duckdb.read_parquet(\"./data/usage-stats/*.parquet\", union_by_name=True)"
   ]
  },
  {
   "cell_type": "code",
   "execution_count": null,
   "metadata": {},
   "outputs": [],
   "source": [
    "\n",
    "conn = duckdb.connect(\"data/dev.duckdb\")\n",
    "conn.execute(\"SET memory_limit = '3GB';\")"
   ]
  },
  {
   "cell_type": "code",
   "execution_count": null,
   "metadata": {},
   "outputs": [],
   "source": [
    "conn.sql(\"CREATE SCHEMA bikes\")"
   ]
  },
  {
   "cell_type": "code",
   "execution_count": null,
   "metadata": {},
   "outputs": [],
   "source": [
    "conn.sql(\"CREATE TABLE journeys as (SELECT * from read_parquet('./data/usage-stats/*.parquet', union_by_name=True))\")"
   ]
  },
  {
   "cell_type": "code",
   "execution_count": null,
   "metadata": {},
   "outputs": [],
   "source": [
    "conn.sql(\"select * from bike_rentals.journeys\")"
   ]
  },
  {
   "cell_type": "code",
   "execution_count": null,
   "metadata": {},
   "outputs": [],
   "source": []
  }
 ],
 "metadata": {
  "kernelspec": {
   "display_name": "venv",
   "language": "python",
   "name": "python3"
  },
  "language_info": {
   "codemirror_mode": {
    "name": "ipython",
    "version": 3
   },
   "file_extension": ".py",
   "mimetype": "text/x-python",
   "name": "python",
   "nbconvert_exporter": "python",
   "pygments_lexer": "ipython3",
   "version": "3.9.21"
  }
 },
 "nbformat": 4,
 "nbformat_minor": 2
}
