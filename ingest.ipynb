{
 "cells": [
  {
   "cell_type": "code",
   "execution_count": null,
   "metadata": {},
   "outputs": [],
   "source": [
    "import duckdb\n",
    "import boto3\n",
    "import pandas as pd\n",
    "import datetime\n",
    "\n",
    "s3 = boto3.client('s3', aws_access_key_id='', aws_secret_access_key='')\n",
    "s3._request_signer.sign = (lambda *args, **kwargs: None)\n",
    "\n",
    "\n",
    "response = s3.list_objects_v2(\n",
    "    Bucket='cycling.data.tfl.gov.uk',\n",
    "    Prefix='usage-stats',\n",
    "\n",
    ")\n"
   ]
  },
  {
   "cell_type": "code",
   "execution_count": null,
   "metadata": {},
   "outputs": [],
   "source": [
    "df = pd.DataFrame(response[\"Contents\"])"
   ]
  },
  {
   "cell_type": "code",
   "execution_count": null,
   "metadata": {},
   "outputs": [],
   "source": [
    "files_dict = response[\"Contents\"]\n",
    "files=[]\n",
    "for file in files_dict:\n",
    "    if file[\"Key\"].endswith(\"csv\") and file[\"LastModified\"].year==2025:\n",
    "        file_key = file[\"Key\"]\n",
    "        files.append(f\"s3://cycling.data.tfl.gov.uk/{file_key}\")\n",
    "\n"
   ]
  },
  {
   "cell_type": "code",
   "execution_count": null,
   "metadata": {},
   "outputs": [],
   "source": [
    "duckdb.read_csv(files, normalize_names=True).to_parquet(\"/workspaces/de_zoomcamp_2025_project/data/2025_journeys.parquet\", append=True)"
   ]
  },
  {
   "cell_type": "code",
   "execution_count": null,
   "metadata": {},
   "outputs": [],
   "source": [
    "[ x for x in files_dict if x[\"Key\"]==\"usage-stats/402JourneyDataExtract15Aug2024-26Aug2024.csv\"][0][\"LastModified\"].year\n",
    "                                                                                                 "
   ]
  },
  {
   "cell_type": "code",
   "execution_count": null,
   "metadata": {},
   "outputs": [],
   "source": [
    "duckdb.read_csv(f\"s3://cycling.data.tfl.gov.uk/usage-stats/402JourneyDataExtract15Aug2024-26Aug2024.csv\")"
   ]
  },
  {
   "cell_type": "code",
   "execution_count": null,
   "metadata": {},
   "outputs": [],
   "source": [
    "duckdb.sql(\"select * from read_parquet('data/2025_journeys.parquet')\")"
   ]
  },
  {
   "cell_type": "code",
   "execution_count": null,
   "metadata": {},
   "outputs": [],
   "source": [
    "\n",
    "duckdb.read_csv(f\"s3://cycling.data.tfl.gov.uk/usage-stats/{file_key}\").to_parquet(\"/workspaces/de_zoomcamp_2025_project/data/2025_journeys.parquet\")).to_parquet(\"/workspaces/de_zoomcamp_2025_project/data/2025_journeys.parquet\")"
   ]
  },
  {
   "cell_type": "code",
   "execution_count": null,
   "metadata": {},
   "outputs": [],
   "source": []
  }
 ],
 "metadata": {
  "kernelspec": {
   "display_name": "venv",
   "language": "python",
   "name": "python3"
  },
  "language_info": {
   "codemirror_mode": {
    "name": "ipython",
    "version": 3
   },
   "file_extension": ".py",
   "mimetype": "text/x-python",
   "name": "python",
   "nbconvert_exporter": "python",
   "pygments_lexer": "ipython3",
   "version": "3.9.21"
  }
 },
 "nbformat": 4,
 "nbformat_minor": 2
}
