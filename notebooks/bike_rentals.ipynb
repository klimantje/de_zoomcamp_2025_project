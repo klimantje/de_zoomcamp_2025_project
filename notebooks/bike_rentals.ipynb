{
 "cells": [
  {
   "cell_type": "code",
   "execution_count": null,
   "metadata": {},
   "outputs": [],
   "source": [
    "import pandas as pd\n",
    "import duckdb"
   ]
  },
  {
   "cell_type": "code",
   "execution_count": null,
   "metadata": {},
   "outputs": [],
   "source": [
    "bikes_table = duckdb.read_csv(\"https://cycling.data.tfl.gov.uk/ActiveTravelCountsProgramme/2024%20W2%20autumn-Cycleways.csv\")"
   ]
  },
  {
   "cell_type": "code",
   "execution_count": null,
   "metadata": {},
   "outputs": [],
   "source": [
    "duckdb.sql(\"select * from bikes_table where Weather!='Dry'\")"
   ]
  },
  {
   "cell_type": "code",
   "execution_count": null,
   "metadata": {},
   "outputs": [],
   "source": [
    "bikes_table.to_parquet('cycleways.parquet')"
   ]
  },
  {
   "cell_type": "code",
   "execution_count": null,
   "metadata": {},
   "outputs": [],
   "source": [
    "#schema has changes somewhere so load only as of 2020\n",
    "duckdb.read_csv(\"s3://cycling.data.tfl.gov.uk/usage-stats/*JourneyDataExtract*2024.csv\").to_parquet(\"2024_journeys.parquet\")"
   ]
  },
  {
   "cell_type": "code",
   "execution_count": null,
   "metadata": {},
   "outputs": [],
   "source": [
    "duckdb.sql(\"s3://cycling.data.tfl.gov.uk/usage-stats/*2025.csv\").to_parquet(\"2025_journeys.parquet\")"
   ]
  },
  {
   "cell_type": "code",
   "execution_count": null,
   "metadata": {},
   "outputs": [],
   "source": [
    "\"\"\"select number, \"\"\""
   ]
  },
  {
   "cell_type": "code",
   "execution_count": null,
   "metadata": {},
   "outputs": [],
   "source": [
    "duckdb.read_parquet(\"2025_journeys.parquet\").show()"
   ]
  },
  {
   "cell_type": "code",
   "execution_count": null,
   "metadata": {},
   "outputs": [],
   "source": [
    "duckdb.read_json(\"https://cycling.data.tfl.gov.uk/cycling-load.json\").df()"
   ]
  },
  {
   "cell_type": "code",
   "execution_count": null,
   "metadata": {},
   "outputs": [],
   "source": [
    "! wget https://cycling.data.tfl.gov.uk/cycling-load.json"
   ]
  },
  {
   "cell_type": "code",
   "execution_count": null,
   "metadata": {},
   "outputs": [],
   "source": [
    "import json \n",
    "\n",
    "with open(\"cycling-load.json\") as f:\n",
    "    json_data = json.load(f)"
   ]
  },
  {
   "cell_type": "code",
   "execution_count": null,
   "metadata": {},
   "outputs": [],
   "source": [
    "[(x[\"url\"].split(\"/\")[-1]).split(\".csv\")[0] for x in json_data[\"entries\"]]"
   ]
  },
  {
   "cell_type": "code",
   "execution_count": null,
   "metadata": {},
   "outputs": [],
   "source": [
    "import duckdb\n",
    "import re\n",
    "\n",
    "\n",
    "# Connect to DuckDB\n",
    "con = duckdb.connect(database=\"bike_rentals\")\n",
    "\n",
    "\n",
    "# Loop through tables and create them in DuckDB\n",
    "for url in [x[\"url\"] for x in json_data[\"entries\"] if x[\"url\"].endswith(\".csv\")]:\n",
    "    table_suffix = re.sub(\"[^A-Za-z0-9 ]+\", \"\", url.split(\"Journey\")[0])\n",
    "    table_name= f\"table_{table_suffix}\"\n",
    "    # Create a table from csv files\n",
    "    con.execute(f\"\"\"\n",
    "        CREATE TABLE {table_name} AS \n",
    "        SELECT * FROM read_csv('{url}');\n",
    "    \"\"\")\n",
    "\n",
    "# Verify the created tables\n",
    "print(con.execute(\"SHOW TABLES\").fetchall())"
   ]
  },
  {
   "cell_type": "code",
   "execution_count": null,
   "metadata": {},
   "outputs": [],
   "source": [
    "con.execute(\"SHOW TABLES\").df()"
   ]
  },
  {
   "cell_type": "code",
   "execution_count": null,
   "metadata": {},
   "outputs": [],
   "source": []
  }
 ],
 "metadata": {
  "kernelspec": {
   "display_name": "venv",
   "language": "python",
   "name": "python3"
  },
  "language_info": {
   "codemirror_mode": {
    "name": "ipython",
    "version": 3
   },
   "file_extension": ".py",
   "mimetype": "text/x-python",
   "name": "python",
   "nbconvert_exporter": "python",
   "pygments_lexer": "ipython3",
   "version": "3.9.21"
  }
 },
 "nbformat": 4,
 "nbformat_minor": 2
}
