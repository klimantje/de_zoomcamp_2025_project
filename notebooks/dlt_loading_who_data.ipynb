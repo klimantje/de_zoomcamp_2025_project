{
 "cells": [
  {
   "cell_type": "markdown",
   "metadata": {},
   "source": [
    "# Loading WHO data with dlt"
   ]
  },
  {
   "cell_type": "code",
   "execution_count": null,
   "metadata": {},
   "outputs": [],
   "source": [
    "import dlt"
   ]
  },
  {
   "cell_type": "code",
   "execution_count": null,
   "metadata": {},
   "outputs": [],
   "source": [
    "import dlt\n",
    "from dlt.sources.helpers.rest_client import RESTClient\n",
    "from dlt.sources.helpers.rest_client.paginators import PageNumberPaginator\n",
    "\n",
    "maximum_page = 3000\n",
    "\n",
    "\n",
    "# data_sets= {\"dimension\": }\n",
    "\n",
    "# Define the API resource for WHO data\n",
    "@dlt.resource(name=\"who\")   # <--- The name of the resource (will be used as the table name)\n",
    "def air_data():\n",
    "    client = RESTClient(\n",
    "        base_url=\"https://ghoapi.azureedge.net/api/\",\n",
    "        paginator=PageNumberPaginator(\n",
    "            base_page=1,\n",
    "            total_path=None,\n",
    "            maximum_page=1\n",
    "        )\n",
    "    )\n",
    "\n",
    "    for page in client.paginate(\"AIR_6\", params={\"size\": 100}):    # <--- API endpoint for retrieving taxi ride data\n",
    "        yield page   # <--- yield data to manage memory\n",
    "\n",
    "\n",
    "# define new dlt pipeline\n",
    "pipeline = dlt.pipeline(pipeline_name=\"who_air\", destination=\"duckdb\", dataset_name=\"air_6\")\n",
    "\n",
    "# run the pipeline with the new resource\n",
    "load_info = pipeline.run(air_data, write_disposition=\"replace\")"
   ]
  },
  {
   "cell_type": "code",
   "execution_count": null,
   "metadata": {},
   "outputs": [],
   "source": [
    "# Start a connection to your database using native `duckdb` connection and look what tables were generated:\n",
    "\n",
    "import duckdb\n",
    "\n",
    "# A database '<pipeline_name>.duckdb' was created in working directory so just connect to it\n",
    "\n",
    "# Connect to the DuckDB database\n",
    "conn = duckdb.connect(f\"{pipeline.pipeline_name}.duckdb\")\n",
    "\n",
    "# Set search path to the dataset\n",
    "conn.sql(f\"SET search_path = '{pipeline.dataset_name}'\")\n",
    "\n",
    "# Describe the dataset\n",
    "conn.sql(\"DESCRIBE\").df()"
   ]
  },
  {
   "cell_type": "code",
   "execution_count": null,
   "metadata": {},
   "outputs": [],
   "source": [
    "conn.sql(\"select * from who_air.air_6.air\").df()"
   ]
  },
  {
   "cell_type": "code",
   "execution_count": null,
   "metadata": {},
   "outputs": [],
   "source": []
  }
 ],
 "metadata": {
  "kernelspec": {
   "display_name": "venv",
   "language": "python",
   "name": "python3"
  },
  "language_info": {
   "codemirror_mode": {
    "name": "ipython",
    "version": 3
   },
   "file_extension": ".py",
   "mimetype": "text/x-python",
   "name": "python",
   "nbconvert_exporter": "python",
   "pygments_lexer": "ipython3",
   "version": "3.9.21"
  }
 },
 "nbformat": 4,
 "nbformat_minor": 2
}
