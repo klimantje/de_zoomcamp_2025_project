{
 "cells": [
  {
   "cell_type": "markdown",
   "metadata": {},
   "source": [
    "# Loading WHO data with dlt"
   ]
  },
  {
   "cell_type": "code",
   "execution_count": null,
   "metadata": {},
   "outputs": [],
   "source": [
    "import dlt"
   ]
  },
  {
   "cell_type": "code",
   "execution_count": null,
   "metadata": {},
   "outputs": [],
   "source": []
  },
  {
   "cell_type": "code",
   "execution_count": null,
   "metadata": {},
   "outputs": [],
   "source": [
    "import dlt\n",
    "from dlt.sources.helpers.rest_client import RESTClient\n",
    "from dlt.sources.helpers.rest_client.paginators import PageNumberPaginator\n",
    "\n",
    "maximum_page = 3000\n",
    "\n",
    "BASE_WHO_URL = \"https://ghoapi.azureedge.net/api/\"\n",
    "ENDPOINTS= {\"dimensions\": \"Dimension\", \"indicators\": \"Indicator\"}\n",
    "            # \"hospital_beds\": \"WHS6_102\", \"hospitals_per_100k\": \"DEVICES00\"}\n",
    "\n",
    "# Define the API resource for WHO data\n",
    "def fetch_who_data(endpoint, params={}):\n",
    "    client = RESTClient(\n",
    "        base_url=BASE_WHO_URL,\n",
    "        paginator=PageNumberPaginator(\n",
    "            base_page=0,\n",
    "            total_path=None,\n",
    "            maximum_page=1\n",
    "        )\n",
    "    )\n",
    "\n",
    "    for page in client.paginate(endpoint, params=params):    # <--- API endpoint for retrieving taxi ride data\n",
    "        yield page   # <--- yield data to manage memory\n",
    "\n",
    "@dlt.source\n",
    "def who_source():\n",
    "    for endpoint_name, endpoint in ENDPOINTS.items():\n",
    "        params={\"size\":100}\n",
    "        yield dlt.resource(\n",
    "            fetch_who_data(endpoint, params),\n",
    "            name=endpoint_name,\n",
    "            write_disposition=\"replace\",\n",
    "        )\n",
    "@dlt.source()\n",
    "def all_indicators():    \n",
    "    for endpoint, endpoint_name in pipeline.dataset().indicators.select(\"indicator_code\", \"indicator_name\").df().values[0:100]:\n",
    "        print(f\"ingesting source {endpoint_name}\")\n",
    "        yield dlt.resource(\n",
    "            fetch_who_data(endpoint),\n",
    "            name=endpoint,\n",
    "            write_disposition=\"replace\",\n",
    "        )\n",
    "\n",
    "# define new dlt pipeline\n",
    "pipeline = dlt.pipeline(pipeline_name=\"who_source\", destination=\"duckdb\", dataset_name=\"who_data\")\n",
    "\n",
    "# run the pipeline with the new resource\n",
    "load_info = pipeline.run(who_source())\n",
    "row_counts = pipeline.last_trace.last_normalize_info"
   ]
  },
  {
   "cell_type": "code",
   "execution_count": null,
   "metadata": {},
   "outputs": [],
   "source": [
    "pipeline.last_trace.last_normalize_info"
   ]
  },
  {
   "cell_type": "code",
   "execution_count": null,
   "metadata": {},
   "outputs": [],
   "source": [
    "pipeline.run(all_indicators())"
   ]
  },
  {
   "cell_type": "code",
   "execution_count": null,
   "metadata": {},
   "outputs": [],
   "source": [
    "for x,y in  pipeline.dataset().indicators.select(\"indicator_code\", \"indicator_name\").df().values[0:10]:\n",
    "    print(f\"name {x}, table {y}\")"
   ]
  },
  {
   "cell_type": "code",
   "execution_count": null,
   "metadata": {},
   "outputs": [],
   "source": [
    "pipeline.dataset_name"
   ]
  },
  {
   "cell_type": "code",
   "execution_count": null,
   "metadata": {},
   "outputs": [],
   "source": [
    "# Start a connection to your database using native `duckdb` connection and look what tables were generated:\n",
    "\n",
    "import duckdb\n",
    "\n",
    "# A database '<pipeline_name>.duckdb' was created in working directory so just connect to it\n",
    "\n",
    "# Connect to the DuckDB database\n",
    "conn = duckdb.connect(f\"{pipeline.pipeline_name}.duckdb\")\n",
    "\n",
    "# Set search path to the dataset\n",
    "conn.sql(f\"SET search_path = '{pipeline.dataset_name}'\")\n",
    "\n",
    "# Describe the dataset\n",
    "conn.sql(\"DESCRIBE\").select(\"name\").df().values"
   ]
  },
  {
   "cell_type": "code",
   "execution_count": null,
   "metadata": {},
   "outputs": [],
   "source": [
    "conn.sql(\"select * from air_42\")"
   ]
  },
  {
   "cell_type": "code",
   "execution_count": null,
   "metadata": {},
   "outputs": [],
   "source": [
    "conn.sql()"
   ]
  },
  {
   "cell_type": "code",
   "execution_count": null,
   "metadata": {},
   "outputs": [],
   "source": []
  }
 ],
 "metadata": {
  "kernelspec": {
   "display_name": "venv",
   "language": "python",
   "name": "python3"
  },
  "language_info": {
   "codemirror_mode": {
    "name": "ipython",
    "version": 3
   },
   "file_extension": ".py",
   "mimetype": "text/x-python",
   "name": "python",
   "nbconvert_exporter": "python",
   "pygments_lexer": "ipython3",
   "version": "3.9.21"
  }
 },
 "nbformat": 4,
 "nbformat_minor": 2
}
